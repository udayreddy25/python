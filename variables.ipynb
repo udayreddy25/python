{
 "cells": [
  {
   "cell_type": "code",
   "execution_count": 1,
   "id": "1fa1af37",
   "metadata": {},
   "outputs": [],
   "source": [
    "uday=10"
   ]
  },
  {
   "cell_type": "code",
   "execution_count": 2,
   "id": "f16e27c8",
   "metadata": {},
   "outputs": [],
   "source": [
    "uday2=25"
   ]
  },
  {
   "cell_type": "code",
   "execution_count": 3,
   "id": "4503b6c6",
   "metadata": {},
   "outputs": [],
   "source": [
    "a=1"
   ]
  },
  {
   "cell_type": "code",
   "execution_count": 4,
   "id": "41f6e463",
   "metadata": {},
   "outputs": [],
   "source": [
    "dsvsdg_3=15"
   ]
  },
  {
   "cell_type": "code",
   "execution_count": 5,
   "id": "5362ae82",
   "metadata": {},
   "outputs": [],
   "source": [
    "a1=22"
   ]
  },
  {
   "cell_type": "code",
   "execution_count": 6,
   "id": "e6e5385f",
   "metadata": {},
   "outputs": [],
   "source": [
    "a_b_c=11"
   ]
  },
  {
   "cell_type": "code",
   "execution_count": 7,
   "id": "1bff8800",
   "metadata": {},
   "outputs": [],
   "source": [
    "vjedcgg=23"
   ]
  },
  {
   "cell_type": "code",
   "execution_count": 8,
   "id": "3c2551f4",
   "metadata": {},
   "outputs": [],
   "source": [
    "jkhrhjnb=34"
   ]
  },
  {
   "cell_type": "code",
   "execution_count": 9,
   "id": "0440ddf9",
   "metadata": {},
   "outputs": [],
   "source": [
    "_a=1"
   ]
  },
  {
   "cell_type": "code",
   "execution_count": 11,
   "id": "f11a7f73",
   "metadata": {},
   "outputs": [],
   "source": [
    "bvflbfl=1"
   ]
  },
  {
   "cell_type": "code",
   "execution_count": 12,
   "id": "4ba7213d",
   "metadata": {},
   "outputs": [],
   "source": [
    "AA=10"
   ]
  },
  {
   "cell_type": "code",
   "execution_count": 13,
   "id": "c0bfd085",
   "metadata": {},
   "outputs": [
    {
     "ename": "SyntaxError",
     "evalue": "cannot assign to literal here. Maybe you meant '==' instead of '='? (2800331774.py, line 1)",
     "output_type": "error",
     "traceback": [
      "\u001b[1;36m  Cell \u001b[1;32mIn[13], line 1\u001b[1;36m\u001b[0m\n\u001b[1;33m    1=10\u001b[0m\n\u001b[1;37m    ^\u001b[0m\n\u001b[1;31mSyntaxError\u001b[0m\u001b[1;31m:\u001b[0m cannot assign to literal here. Maybe you meant '==' instead of '='?\n"
     ]
    }
   ],
   "source": [
    "1=10"
   ]
  },
  {
   "cell_type": "code",
   "execution_count": 15,
   "id": "aee58bd3",
   "metadata": {},
   "outputs": [
    {
     "ename": "SyntaxError",
     "evalue": "cannot assign to literal here. Maybe you meant '==' instead of '='? (1352771116.py, line 1)",
     "output_type": "error",
     "traceback": [
      "\u001b[1;36m  Cell \u001b[1;32mIn[15], line 1\u001b[1;36m\u001b[0m\n\u001b[1;33m    1_1=11\u001b[0m\n\u001b[1;37m    ^\u001b[0m\n\u001b[1;31mSyntaxError\u001b[0m\u001b[1;31m:\u001b[0m cannot assign to literal here. Maybe you meant '==' instead of '='?\n"
     ]
    }
   ],
   "source": [
    "1_1=11"
   ]
  },
  {
   "cell_type": "code",
   "execution_count": 16,
   "id": "f494def3",
   "metadata": {},
   "outputs": [
    {
     "ename": "SyntaxError",
     "evalue": "invalid decimal literal (298221242.py, line 1)",
     "output_type": "error",
     "traceback": [
      "\u001b[1;36m  Cell \u001b[1;32mIn[16], line 1\u001b[1;36m\u001b[0m\n\u001b[1;33m    2abc=32\u001b[0m\n\u001b[1;37m    ^\u001b[0m\n\u001b[1;31mSyntaxError\u001b[0m\u001b[1;31m:\u001b[0m invalid decimal literal\n"
     ]
    }
   ],
   "source": [
    "2abc=32"
   ]
  },
  {
   "cell_type": "code",
   "execution_count": 17,
   "id": "31b0c69a",
   "metadata": {},
   "outputs": [
    {
     "ename": "SyntaxError",
     "evalue": "invalid syntax (2799542897.py, line 1)",
     "output_type": "error",
     "traceback": [
      "\u001b[1;36m  Cell \u001b[1;32mIn[17], line 1\u001b[1;36m\u001b[0m\n\u001b[1;33m    a b=12\u001b[0m\n\u001b[1;37m      ^\u001b[0m\n\u001b[1;31mSyntaxError\u001b[0m\u001b[1;31m:\u001b[0m invalid syntax\n"
     ]
    }
   ],
   "source": [
    "a b=12"
   ]
  },
  {
   "cell_type": "code",
   "execution_count": 19,
   "id": "a4b87695",
   "metadata": {},
   "outputs": [
    {
     "ename": "SyntaxError",
     "evalue": "invalid syntax (2323662859.py, line 1)",
     "output_type": "error",
     "traceback": [
      "\u001b[1;36m  Cell \u001b[1;32mIn[19], line 1\u001b[1;36m\u001b[0m\n\u001b[1;33m    _ 1=123\u001b[0m\n\u001b[1;37m      ^\u001b[0m\n\u001b[1;31mSyntaxError\u001b[0m\u001b[1;31m:\u001b[0m invalid syntax\n"
     ]
    }
   ],
   "source": [
    "_ 1=123"
   ]
  },
  {
   "cell_type": "code",
   "execution_count": 22,
   "id": "9c19fb4d",
   "metadata": {},
   "outputs": [
    {
     "ename": "SyntaxError",
     "evalue": "invalid decimal literal (480544780.py, line 1)",
     "output_type": "error",
     "traceback": [
      "\u001b[1;36m  Cell \u001b[1;32mIn[22], line 1\u001b[1;36m\u001b[0m\n\u001b[1;33m    1abc = 10\u001b[0m\n\u001b[1;37m    ^\u001b[0m\n\u001b[1;31mSyntaxError\u001b[0m\u001b[1;31m:\u001b[0m invalid decimal literal\n"
     ]
    }
   ],
   "source": [
    "1abc = 10"
   ]
  },
  {
   "cell_type": "code",
   "execution_count": 23,
   "id": "697866be",
   "metadata": {},
   "outputs": [
    {
     "ename": "SyntaxError",
     "evalue": "cannot assign to literal here. Maybe you meant '==' instead of '='? (522558734.py, line 1)",
     "output_type": "error",
     "traceback": [
      "\u001b[1;36m  Cell \u001b[1;32mIn[23], line 1\u001b[1;36m\u001b[0m\n\u001b[1;33m    2222=11\u001b[0m\n\u001b[1;37m    ^\u001b[0m\n\u001b[1;31mSyntaxError\u001b[0m\u001b[1;31m:\u001b[0m cannot assign to literal here. Maybe you meant '==' instead of '='?\n"
     ]
    }
   ],
   "source": [
    "2222=11"
   ]
  },
  {
   "cell_type": "code",
   "execution_count": 24,
   "id": "c863ef36",
   "metadata": {},
   "outputs": [
    {
     "ename": "SyntaxError",
     "evalue": "invalid decimal literal (2532881403.py, line 1)",
     "output_type": "error",
     "traceback": [
      "\u001b[1;36m  Cell \u001b[1;32mIn[24], line 1\u001b[1;36m\u001b[0m\n\u001b[1;33m    1a_=33\u001b[0m\n\u001b[1;37m    ^\u001b[0m\n\u001b[1;31mSyntaxError\u001b[0m\u001b[1;31m:\u001b[0m invalid decimal literal\n"
     ]
    }
   ],
   "source": [
    "1a_=33"
   ]
  },
  {
   "cell_type": "code",
   "execution_count": 25,
   "id": "e2f104bb",
   "metadata": {},
   "outputs": [
    {
     "ename": "SyntaxError",
     "evalue": "invalid syntax (425499816.py, line 1)",
     "output_type": "error",
     "traceback": [
      "\u001b[1;36m  Cell \u001b[1;32mIn[25], line 1\u001b[1;36m\u001b[0m\n\u001b[1;33m    $1=123\u001b[0m\n\u001b[1;37m    ^\u001b[0m\n\u001b[1;31mSyntaxError\u001b[0m\u001b[1;31m:\u001b[0m invalid syntax\n"
     ]
    }
   ],
   "source": [
    "$1=123"
   ]
  },
  {
   "cell_type": "code",
   "execution_count": 26,
   "id": "f0f32281",
   "metadata": {},
   "outputs": [
    {
     "ename": "SyntaxError",
     "evalue": "invalid syntax (1717380473.py, line 1)",
     "output_type": "error",
     "traceback": [
      "\u001b[1;36m  Cell \u001b[1;32mIn[26], line 1\u001b[1;36m\u001b[0m\n\u001b[1;33m    vzd=$11\u001b[0m\n\u001b[1;37m        ^\u001b[0m\n\u001b[1;31mSyntaxError\u001b[0m\u001b[1;31m:\u001b[0m invalid syntax\n"
     ]
    }
   ],
   "source": [
    "vzd=$11 "
   ]
  },
  {
   "cell_type": "code",
   "execution_count": null,
   "id": "1f61b5e2",
   "metadata": {},
   "outputs": [],
   "source": []
  }
 ],
 "metadata": {
  "kernelspec": {
   "display_name": "Python 3 (ipykernel)",
   "language": "python",
   "name": "python3"
  },
  "language_info": {
   "codemirror_mode": {
    "name": "ipython",
    "version": 3
   },
   "file_extension": ".py",
   "mimetype": "text/x-python",
   "name": "python",
   "nbconvert_exporter": "python",
   "pygments_lexer": "ipython3",
   "version": "3.11.5"
  }
 },
 "nbformat": 4,
 "nbformat_minor": 5
}
